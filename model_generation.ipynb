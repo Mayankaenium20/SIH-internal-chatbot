{
 "cells": [
  {
   "cell_type": "code",
   "execution_count": 1,
   "metadata": {},
   "outputs": [
    {
     "name": "stdout",
     "output_type": "stream",
     "text": [
      "Collecting transformers\n",
      "  Downloading transformers-4.33.1-py3-none-any.whl (7.6 MB)\n",
      "     ---------------------------------------- 7.6/7.6 MB 3.3 MB/s eta 0:00:00\n",
      "Requirement already satisfied: huggingface-hub<1.0,>=0.15.1 in d:\\programs\\anaconda\\lib\\site-packages (from transformers) (0.15.1)\n",
      "Requirement already satisfied: numpy>=1.17 in d:\\programs\\anaconda\\lib\\site-packages (from transformers) (1.21.5)\n",
      "Requirement already satisfied: pyyaml>=5.1 in d:\\programs\\anaconda\\lib\\site-packages (from transformers) (6.0)\n",
      "Requirement already satisfied: filelock in d:\\programs\\anaconda\\lib\\site-packages (from transformers) (3.6.0)\n",
      "Requirement already satisfied: packaging>=20.0 in d:\\programs\\anaconda\\lib\\site-packages (from transformers) (21.3)\n",
      "Requirement already satisfied: requests in d:\\programs\\anaconda\\lib\\site-packages (from transformers) (2.28.1)\n",
      "Collecting tokenizers!=0.11.3,<0.14,>=0.11.1\n",
      "  Downloading tokenizers-0.13.3-cp39-cp39-win_amd64.whl (3.5 MB)\n",
      "     ---------------------------------------- 3.5/3.5 MB 5.1 MB/s eta 0:00:00\n",
      "Requirement already satisfied: tqdm>=4.27 in d:\\programs\\anaconda\\lib\\site-packages (from transformers) (4.64.1)\n",
      "Requirement already satisfied: regex!=2019.12.17 in d:\\programs\\anaconda\\lib\\site-packages (from transformers) (2022.7.9)\n",
      "Collecting safetensors>=0.3.1\n",
      "  Downloading safetensors-0.3.3-cp39-cp39-win_amd64.whl (266 kB)\n",
      "     -------------------------------------- 266.4/266.4 kB 1.6 MB/s eta 0:00:00\n",
      "Requirement already satisfied: typing-extensions>=3.7.4.3 in d:\\programs\\anaconda\\lib\\site-packages (from huggingface-hub<1.0,>=0.15.1->transformers) (4.4.0)\n",
      "Requirement already satisfied: fsspec in d:\\programs\\anaconda\\lib\\site-packages (from huggingface-hub<1.0,>=0.15.1->transformers) (2022.11.0)\n",
      "Requirement already satisfied: pyparsing!=3.0.5,>=2.0.2 in d:\\programs\\anaconda\\lib\\site-packages (from packaging>=20.0->transformers) (2.4.7)\n",
      "Requirement already satisfied: colorama in d:\\programs\\anaconda\\lib\\site-packages (from tqdm>=4.27->transformers) (0.4.5)\n",
      "Requirement already satisfied: idna<4,>=2.5 in d:\\programs\\anaconda\\lib\\site-packages (from requests->transformers) (2.10)\n",
      "Requirement already satisfied: charset-normalizer<3,>=2 in d:\\programs\\anaconda\\lib\\site-packages (from requests->transformers) (2.0.4)\n",
      "Requirement already satisfied: certifi>=2017.4.17 in d:\\programs\\anaconda\\lib\\site-packages (from requests->transformers) (2022.12.7)\n",
      "Requirement already satisfied: urllib3<1.27,>=1.21.1 in d:\\programs\\anaconda\\lib\\site-packages (from requests->transformers) (1.26.13)\n",
      "Installing collected packages: tokenizers, safetensors, transformers\n",
      "Successfully installed safetensors-0.3.3 tokenizers-0.13.3 transformers-4.33.1\n"
     ]
    },
    {
     "name": "stderr",
     "output_type": "stream",
     "text": [
      "WARNING: Ignoring invalid distribution -etuptools (d:\\programs\\anaconda\\lib\\site-packages)\n",
      "WARNING: Ignoring invalid distribution -etuptools (d:\\programs\\anaconda\\lib\\site-packages)\n",
      "WARNING: Ignoring invalid distribution -etuptools (d:\\programs\\anaconda\\lib\\site-packages)\n",
      "WARNING: Ignoring invalid distribution -etuptools (d:\\programs\\anaconda\\lib\\site-packages)\n",
      "WARNING: Ignoring invalid distribution -etuptools (d:\\programs\\anaconda\\lib\\site-packages)\n",
      "WARNING: Ignoring invalid distribution -etuptools (d:\\programs\\anaconda\\lib\\site-packages)\n",
      "WARNING: Ignoring invalid distribution -etuptools (d:\\programs\\anaconda\\lib\\site-packages)\n",
      "WARNING: Ignoring invalid distribution -etuptools (d:\\programs\\anaconda\\lib\\site-packages)\n",
      "WARNING: Ignoring invalid distribution -etuptools (d:\\programs\\anaconda\\lib\\site-packages)\n"
     ]
    }
   ],
   "source": [
    "!pip install transformers"
   ]
  },
  {
   "cell_type": "code",
   "execution_count": 2,
   "metadata": {},
   "outputs": [],
   "source": [
    "import os\n",
    "\n",
    "from transformers import GPTNeoForCausalLM, GPT2Tokenizer"
   ]
  },
  {
   "cell_type": "code",
   "execution_count": 3,
   "metadata": {},
   "outputs": [
    {
     "data": {
      "application/vnd.jupyter.widget-view+json": {
       "model_id": "311c1eafd7904f06a3f3830d3b520401",
       "version_major": 2,
       "version_minor": 0
      },
      "text/plain": [
       "Downloading (…)lve/main/config.json:   0%|          | 0.00/1.35k [00:00<?, ?B/s]"
      ]
     },
     "metadata": {},
     "output_type": "display_data"
    },
    {
     "name": "stderr",
     "output_type": "stream",
     "text": [
      "d:\\Programs\\Python\\lib\\site-packages\\huggingface_hub\\file_download.py:133: UserWarning: `huggingface_hub` cache-system uses symlinks by default to efficiently store duplicated files but your machine does not support them in C:\\Users\\sujyo\\.cache\\huggingface\\hub. Caching files will still work but in a degraded version that might require more space on your disk. This warning can be disabled by setting the `HF_HUB_DISABLE_SYMLINKS_WARNING` environment variable. For more details, see https://huggingface.co/docs/huggingface_hub/how-to-cache#limitations.\n",
      "To support symlinks on Windows, you either need to activate Developer Mode or to run Python as an administrator. In order to see activate developer mode, see this article: https://docs.microsoft.com/en-us/windows/apps/get-started/enable-your-device-for-development\n",
      "  warnings.warn(message)\n"
     ]
    },
    {
     "data": {
      "application/vnd.jupyter.widget-view+json": {
       "model_id": "c2c8127c93f94179b9b5fc6c25faffe1",
       "version_major": 2,
       "version_minor": 0
      },
      "text/plain": [
       "Downloading pytorch_model.bin:   0%|          | 0.00/5.31G [00:00<?, ?B/s]"
      ]
     },
     "metadata": {},
     "output_type": "display_data"
    },
    {
     "data": {
      "application/vnd.jupyter.widget-view+json": {
       "model_id": "210ffb7215cf4232880e13e67bb83f75",
       "version_major": 2,
       "version_minor": 0
      },
      "text/plain": [
       "Downloading (…)olve/main/vocab.json:   0%|          | 0.00/798k [00:00<?, ?B/s]"
      ]
     },
     "metadata": {},
     "output_type": "display_data"
    },
    {
     "data": {
      "application/vnd.jupyter.widget-view+json": {
       "model_id": "f34a3053fdab4fcdbbbacb86629a47bf",
       "version_major": 2,
       "version_minor": 0
      },
      "text/plain": [
       "Downloading (…)olve/main/merges.txt:   0%|          | 0.00/456k [00:00<?, ?B/s]"
      ]
     },
     "metadata": {},
     "output_type": "display_data"
    },
    {
     "data": {
      "application/vnd.jupyter.widget-view+json": {
       "model_id": "892818a3c9c44e5d87301e4c640d803c",
       "version_major": 2,
       "version_minor": 0
      },
      "text/plain": [
       "Downloading (…)cial_tokens_map.json:   0%|          | 0.00/90.0 [00:00<?, ?B/s]"
      ]
     },
     "metadata": {},
     "output_type": "display_data"
    },
    {
     "data": {
      "application/vnd.jupyter.widget-view+json": {
       "model_id": "fa78c0e82c324965859610022cdd9efa",
       "version_major": 2,
       "version_minor": 0
      },
      "text/plain": [
       "Downloading (…)okenizer_config.json:   0%|          | 0.00/200 [00:00<?, ?B/s]"
      ]
     },
     "metadata": {},
     "output_type": "display_data"
    }
   ],
   "source": [
    "model = GPTNeoForCausalLM.from_pretrained('EleutherAI/gpt-neo-1.3B')\n",
    "tokenizer = GPT2Tokenizer.from_pretrained('EleutherAI/gpt-neo-1.3B')"
   ]
  },
  {
   "cell_type": "code",
   "execution_count": 4,
   "metadata": {},
   "outputs": [
    {
     "data": {
      "text/plain": [
       "('d:\\\\internship\\\\python\\\\model\\\\tokenizer_config.json',\n",
       " 'd:\\\\internship\\\\python\\\\model\\\\special_tokens_map.json',\n",
       " 'd:\\\\internship\\\\python\\\\model\\\\vocab.json',\n",
       " 'd:\\\\internship\\\\python\\\\model\\\\merges.txt',\n",
       " 'd:\\\\internship\\\\python\\\\model\\\\added_tokens.json')"
      ]
     },
     "execution_count": 4,
     "metadata": {},
     "output_type": "execute_result"
    }
   ],
   "source": [
    "model_dir = os.path.join(os.getcwd(), \"model\")\n",
    "model.save_pretrained(model_dir)\n",
    "tokenizer.save_pretrained(model_dir)"
   ]
  },
  {
   "cell_type": "code",
   "execution_count": 5,
   "metadata": {},
   "outputs": [],
   "source": [
    "def generate_output(query):\n",
    "    input_ids = tokenizer.encode(query, return_tensors='pt')\n",
    "    generated = model.generate(input_ids, min_length=20, max_length=500, do_sample=True, temperature=0.8)\n",
    "    generated_text = tokenizer.decode(generated[0])\n",
    "    return generated_text"
   ]
  },
  {
   "cell_type": "code",
   "execution_count": 6,
   "metadata": {},
   "outputs": [
    {
     "name": "stderr",
     "output_type": "stream",
     "text": [
      "The attention mask and the pad token id were not set. As a consequence, you may observe unexpected behavior. Please pass your input's `attention_mask` to obtain reliable results.\n",
      "Setting `pad_token_id` to `eos_token_id`:50256 for open-end generation.\n"
     ]
    },
    {
     "name": "stdout",
     "output_type": "stream",
     "text": [
      "mining laws in india | www.praktica.com.\n",
      "\n",
      "Praktica.com, the company that provides India's first and only india-based online service for checking and comparing online gambling services, is the oldest independent online gambling company and is well known in India for its honesty and integrity. Praktica is also one of the fastest growing online gambling companies.\n",
      "\n",
      "Praktica.com\n",
      "\n",
      "Praktica is one of the oldest online gambling companies in the world and one of the most progressive indian online gambling companies. Praktica.com is the only online gambling company that is dedicated to ensuring the safety and security of its customers, the best of the best online gambling companies in India, which means that it is one of the most trusted and reliable online gambling companies globally.\n",
      "\n",
      "Online Gambling in India\n",
      "\n",
      "India has the highest number of internet users per capita in the world. According to the 2013 report published by the International Monetary Fund (IMF), the overall internet usage in India was 26.3 billion, representing 8.7 per cent of the world's internet users. India has the second higher number of internet users, with the lowest number of internet users in the world.\n",
      "\n",
      "India is the second largest internet market in the world, following only the US, and this fact has created great opportunities for internet companies in India. Internet users are the largest potential clientele for online gambling. According to the internet market research company, comScore, India will receive a total of 11.3 billion internet users by 2016. This means that internet users in India will reach 16.1 billion by 2016.\n",
      "\n",
      "The online gambling industry in India is booming, with online gambling in India expected to generate about USD1.1 billion by 2017. Based on the report, the online gambling industry in India will grow by over 9.7 per cent to reach a market size of USD3.2 billion by 2017.\n",
      "\n",
      "Online Gambling in India\n",
      "\n",
      "There are several online gambling websites that claim to be legit and provide services in India. In the last few years, the internet gaming industry has seen a boom in online gambling.\n",
      "\n",
      "Online Gambling in India\n",
      "\n",
      "Most online gambling websites in India are online casinos. Online casinos in India offer games like blackjack, poker, roulette, baccarat, lotteries, and many more. The most prominent online gambling websites in India\n"
     ]
    }
   ],
   "source": [
    "query = \"mining laws in india\"\n",
    "output = generate_output(query)\n",
    "print (output)"
   ]
  },
  {
   "cell_type": "code",
   "execution_count": null,
   "metadata": {},
   "outputs": [],
   "source": []
  }
 ],
 "metadata": {
  "kernelspec": {
   "display_name": "Python 3",
   "language": "python",
   "name": "python3"
  },
  "language_info": {
   "codemirror_mode": {
    "name": "ipython",
    "version": 3
   },
   "file_extension": ".py",
   "mimetype": "text/x-python",
   "name": "python",
   "nbconvert_exporter": "python",
   "pygments_lexer": "ipython3",
   "version": "3.9.5"
  },
  "orig_nbformat": 4
 },
 "nbformat": 4,
 "nbformat_minor": 2
}
